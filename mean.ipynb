{
 "cells": [
  {
   "cell_type": "code",
   "execution_count": 1,
   "id": "f84d303a",
   "metadata": {},
   "outputs": [
    {
     "data": {
      "text/plain": [
       "[115.3, 195.5, 120.5, 110.2, 90.4, 105.6, 110.9, 116.3, 122.3, 125.4]"
      ]
     },
     "execution_count": 1,
     "metadata": {},
     "output_type": "execute_result"
    }
   ],
   "source": [
    "list = [115.3,195.5,120.5,110.2,90.4,105.6,110.9,116.3,122.3,125.4]\n",
    "list"
   ]
  },
  {
   "cell_type": "code",
   "execution_count": 2,
   "id": "f0427dec",
   "metadata": {},
   "outputs": [],
   "source": [
    "def getMean(numbers):\n",
    "    if len(numbers) == 0:\n",
    "        return None\n",
    "    else:\n",
    "        current_sum = 0\n",
    "        for i in numbers:\n",
    "            current_sum += i\n",
    "            current_avg = current_sum/len(numbers)\n",
    "        return current_avg"
   ]
  },
  {
   "cell_type": "code",
   "execution_count": 3,
   "id": "edff2e83",
   "metadata": {},
   "outputs": [
    {
     "data": {
      "text/plain": [
       "121.24000000000001"
      ]
     },
     "execution_count": 3,
     "metadata": {},
     "output_type": "execute_result"
    }
   ],
   "source": [
    "getMean(list)"
   ]
  },
  {
   "cell_type": "code",
   "execution_count": 4,
   "id": "10eb07ef",
   "metadata": {},
   "outputs": [],
   "source": [
    "def getMedian(numbers):\n",
    "    if len(numbers) == 0:\n",
    "        return None\n",
    "    else:\n",
    "        numbers.sort()\n",
    "        middle_index = len(numbers)//2\n",
    "        return numbers[middle_index]"
   ]
  },
  {
   "cell_type": "code",
   "execution_count": 5,
   "id": "84377d49",
   "metadata": {},
   "outputs": [
    {
     "data": {
      "text/plain": [
       "116.3"
      ]
     },
     "execution_count": 5,
     "metadata": {},
     "output_type": "execute_result"
    }
   ],
   "source": [
    "getMedian(list)"
   ]
  },
  {
   "cell_type": "code",
   "execution_count": 6,
   "id": "d3f687e9",
   "metadata": {},
   "outputs": [],
   "source": [
    "def getMode(numbers):\n",
    "    max_occur = -1\n",
    "    if len(numbers) == 0:\n",
    "        return None\n",
    "    else:\n",
    "        res = numbers[0]\n",
    "        occurences = {}\n",
    "        for i in numbers:\n",
    "            if occurences.get(i) == None:\n",
    "                occurences[i] = 1\n",
    "            else:\n",
    "                occurences[i] += 1\n",
    "            if occurences[i] > max_occur:\n",
    "                max_occur = occurences[i]\n",
    "                res = i\n",
    "        return res\n",
    "    return None"
   ]
  },
  {
   "cell_type": "code",
   "execution_count": 7,
   "id": "02a08956",
   "metadata": {},
   "outputs": [
    {
     "data": {
      "text/plain": [
       "90.4"
      ]
     },
     "execution_count": 7,
     "metadata": {},
     "output_type": "execute_result"
    }
   ],
   "source": [
    "getMode(list)"
   ]
  },
  {
   "cell_type": "code",
   "execution_count": 8,
   "id": "f963c3bd",
   "metadata": {},
   "outputs": [],
   "source": [
    "def getStandardDeviation(numbers):\n",
    "    if len(numbers) == 0:\n",
    "        return 0\n",
    "    else:\n",
    "        mean = getMean(numbers)\n",
    "        std_deviation = 0\n",
    "        for i in numbers:\n",
    "            std_deviation += (i - mean)**2\n",
    "        return (std_deviation/len(numbers))**0.5"
   ]
  },
  {
   "cell_type": "code",
   "execution_count": 9,
   "id": "95a3ef3f",
   "metadata": {},
   "outputs": [
    {
     "data": {
      "text/plain": [
       "26.490987146574962"
      ]
     },
     "execution_count": 9,
     "metadata": {},
     "output_type": "execute_result"
    }
   ],
   "source": [
    "getStandardDeviation(list)"
   ]
  },
  {
   "cell_type": "code",
   "execution_count": 10,
   "id": "03b41b2f",
   "metadata": {},
   "outputs": [],
   "source": [
    "def getVariance(numbers):\n",
    "    return getStandardDeviation(numbers)**2"
   ]
  },
  {
   "cell_type": "code",
   "execution_count": 11,
   "id": "5547648c",
   "metadata": {},
   "outputs": [
    {
     "data": {
      "text/plain": [
       "701.7723999999998"
      ]
     },
     "execution_count": 11,
     "metadata": {},
     "output_type": "execute_result"
    }
   ],
   "source": [
    "getVariance(list)"
   ]
  },
  {
   "cell_type": "code",
   "execution_count": 12,
   "id": "d8c17f84",
   "metadata": {},
   "outputs": [],
   "source": [
    "def getNormalization(features):\n",
    "    x_min = min(features)\n",
    "    x_max = max(features)\n",
    "    normalized_vals = []\n",
    "    for i in features:\n",
    "        normalized_vals.append((i - x_min)/(x_max - x_min))\n",
    "    return normalized_vals"
   ]
  },
  {
   "cell_type": "code",
   "execution_count": 13,
   "id": "c129e937",
   "metadata": {},
   "outputs": [
    {
     "data": {
      "text/plain": [
       "[0.0,\n",
       " 0.14462416745956222,\n",
       " 0.18839200761179828,\n",
       " 0.1950523311132255,\n",
       " 0.23691722169362506,\n",
       " 0.24643196955280677,\n",
       " 0.2863939105613701,\n",
       " 0.3035204567078972,\n",
       " 0.3330161750713606,\n",
       " 1.0]"
      ]
     },
     "execution_count": 13,
     "metadata": {},
     "output_type": "execute_result"
    }
   ],
   "source": [
    "getNormalization(list)"
   ]
  },
  {
   "cell_type": "code",
   "execution_count": 14,
   "id": "f04f734c",
   "metadata": {},
   "outputs": [],
   "source": [
    "def getStandardization(features):\n",
    "    mean = getMean(features)\n",
    "    std_deviation = getStandardDeviation(features)\n",
    "    standardized_vals = []\n",
    "    for i in features:\n",
    "        standardized_vals.append((i - mean)/std_deviation)\n",
    "    return standardized_vals"
   ]
  },
  {
   "cell_type": "code",
   "execution_count": 15,
   "id": "c99458b4",
   "metadata": {},
   "outputs": [
    {
     "data": {
      "text/plain": [
       "[-1.164169527898748,\n",
       " -0.5903894752378864,\n",
       " -0.4167455119326252,\n",
       " -0.39032143056008545,\n",
       " -0.22422720478983624,\n",
       " -0.18647851711477953,\n",
       " -0.027934028879541235,\n",
       " 0.04001360893556073,\n",
       " 0.15703454072823686,\n",
       " 2.803217546749712]"
      ]
     },
     "execution_count": 15,
     "metadata": {},
     "output_type": "execute_result"
    }
   ],
   "source": [
    "getStandardization(list)"
   ]
  },
  {
   "cell_type": "code",
   "execution_count": 16,
   "id": "799db37c",
   "metadata": {},
   "outputs": [],
   "source": [
    "def doMinMaxNormalization(numbers):\n",
    "    result = []\n",
    "    if len(numbers) == 0:\n",
    "        return result\n",
    "    else:\n",
    "        min_value = min(numbers)\n",
    "        max_value = max(numbers)\n",
    "        for i in numbers:\n",
    "            result.append((i - min_value)/(max_value - min_value))\n",
    "        return result"
   ]
  },
  {
   "cell_type": "code",
   "execution_count": 17,
   "id": "c781efad",
   "metadata": {},
   "outputs": [
    {
     "data": {
      "text/plain": [
       "[0.0,\n",
       " 0.14462416745956222,\n",
       " 0.18839200761179828,\n",
       " 0.1950523311132255,\n",
       " 0.23691722169362506,\n",
       " 0.24643196955280677,\n",
       " 0.2863939105613701,\n",
       " 0.3035204567078972,\n",
       " 0.3330161750713606,\n",
       " 1.0]"
      ]
     },
     "execution_count": 17,
     "metadata": {},
     "output_type": "execute_result"
    }
   ],
   "source": [
    "doMinMaxNormalization(list)"
   ]
  }
 ],
 "metadata": {
  "kernelspec": {
   "display_name": "Python 3 (ipykernel)",
   "language": "python",
   "name": "python3"
  },
  "language_info": {
   "codemirror_mode": {
    "name": "ipython",
    "version": 3
   },
   "file_extension": ".py",
   "mimetype": "text/x-python",
   "name": "python",
   "nbconvert_exporter": "python",
   "pygments_lexer": "ipython3",
   "version": "3.10.5"
  }
 },
 "nbformat": 4,
 "nbformat_minor": 5
}
